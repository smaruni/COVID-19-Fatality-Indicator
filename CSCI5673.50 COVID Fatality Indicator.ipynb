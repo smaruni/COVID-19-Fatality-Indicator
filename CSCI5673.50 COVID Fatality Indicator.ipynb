{
 "cells": [
  {
   "cell_type": "markdown",
   "metadata": {
    "colab_type": "text",
    "id": "ln82NHkuK7A6"
   },
   "source": [
    "# K Means Clustering\n",
    "## Ifeoluwa Babatunde\n",
    "## Shaquitha Maruni\n",
    "### Dataset: DS4C: Data Science for COVID-19 in South Korea\n"
   ]
  },
  {
   "cell_type": "markdown",
   "metadata": {
    "colab_type": "text",
    "id": "QcSSV42HK7A7"
   },
   "source": [
    "The theme of this project revolves around the set of data provided by South Korea tracking their infected patients."
   ]
  },
  {
   "cell_type": "code",
   "execution_count": 1,
   "metadata": {
    "colab": {},
    "colab_type": "code",
    "id": "a43Gm4TcK7A8"
   },
   "outputs": [],
   "source": [
    "# Import necessary libraries\n",
    "import pandas as pd\n",
    "import numpy as np\n",
    "from sklearn.preprocessing import LabelEncoder\n",
    "from sklearn.preprocessing import MinMaxScaler\n",
    "import seaborn as sns\n",
    "from datetime import date, timedelta\n",
    "import matplotlib.pyplot as plt\n",
    "%matplotlib inline"
   ]
  },
  {
   "cell_type": "code",
   "execution_count": 2,
   "metadata": {},
   "outputs": [],
   "source": [
    "import warnings\n",
    "\n",
    "def fxn():\n",
    "    warnings.warn(\"deprecated\", DeprecationWarning)\n",
    "\n",
    "with warnings.catch_warnings():\n",
    "    warnings.simplefilter(\"ignore\")\n",
    "    fxn()"
   ]
  },
  {
   "cell_type": "code",
   "execution_count": 3,
   "metadata": {
    "colab": {},
    "colab_type": "code",
    "id": "AustO8rzK7A_"
   },
   "outputs": [],
   "source": [
    "# Get patient info\n",
    "patient = pd.read_csv('PatientInfo.csv')"
   ]
  },
  {
   "cell_type": "code",
   "execution_count": 4,
   "metadata": {
    "colab": {
     "base_uri": "https://localhost:8080/",
     "height": 292
    },
    "colab_type": "code",
    "executionInfo": {
     "elapsed": 674,
     "status": "ok",
     "timestamp": 1588185164587,
     "user": {
      "displayName": "Shaquitha Maruni",
      "photoUrl": "https://lh3.googleusercontent.com/a-/AOh14GgC05omiS7AyhyfwZRkFjTCiPsl1zt9cEj-ivR0=s64",
      "userId": "04272754151066914281"
     },
     "user_tz": 300
    },
    "id": "FCYhMhLfK7BB",
    "outputId": "ad9de2a6-394c-4155-9448-f77a73ed820a"
   },
   "outputs": [
    {
     "data": {
      "text/html": [
       "<div>\n",
       "<style scoped>\n",
       "    .dataframe tbody tr th:only-of-type {\n",
       "        vertical-align: middle;\n",
       "    }\n",
       "\n",
       "    .dataframe tbody tr th {\n",
       "        vertical-align: top;\n",
       "    }\n",
       "\n",
       "    .dataframe thead th {\n",
       "        text-align: right;\n",
       "    }\n",
       "</style>\n",
       "<table border=\"1\" class=\"dataframe\">\n",
       "  <thead>\n",
       "    <tr style=\"text-align: right;\">\n",
       "      <th></th>\n",
       "      <th>patient_id</th>\n",
       "      <th>global_num</th>\n",
       "      <th>sex</th>\n",
       "      <th>birth_year</th>\n",
       "      <th>age</th>\n",
       "      <th>country</th>\n",
       "      <th>province</th>\n",
       "      <th>city</th>\n",
       "      <th>disease</th>\n",
       "      <th>infection_case</th>\n",
       "      <th>infection_order</th>\n",
       "      <th>infected_by</th>\n",
       "      <th>contact_number</th>\n",
       "      <th>symptom_onset_date</th>\n",
       "      <th>confirmed_date</th>\n",
       "      <th>released_date</th>\n",
       "      <th>deceased_date</th>\n",
       "      <th>state</th>\n",
       "    </tr>\n",
       "  </thead>\n",
       "  <tbody>\n",
       "    <tr>\n",
       "      <td>0</td>\n",
       "      <td>1000000001</td>\n",
       "      <td>2.0</td>\n",
       "      <td>male</td>\n",
       "      <td>1964.0</td>\n",
       "      <td>50s</td>\n",
       "      <td>Korea</td>\n",
       "      <td>Seoul</td>\n",
       "      <td>Gangseo-gu</td>\n",
       "      <td>NaN</td>\n",
       "      <td>overseas inflow</td>\n",
       "      <td>1.0</td>\n",
       "      <td>NaN</td>\n",
       "      <td>75.0</td>\n",
       "      <td>2020-01-22</td>\n",
       "      <td>2020-01-23</td>\n",
       "      <td>2020-02-05</td>\n",
       "      <td>NaN</td>\n",
       "      <td>released</td>\n",
       "    </tr>\n",
       "    <tr>\n",
       "      <td>1</td>\n",
       "      <td>1000000002</td>\n",
       "      <td>5.0</td>\n",
       "      <td>male</td>\n",
       "      <td>1987.0</td>\n",
       "      <td>30s</td>\n",
       "      <td>Korea</td>\n",
       "      <td>Seoul</td>\n",
       "      <td>Jungnang-gu</td>\n",
       "      <td>NaN</td>\n",
       "      <td>overseas inflow</td>\n",
       "      <td>1.0</td>\n",
       "      <td>NaN</td>\n",
       "      <td>31.0</td>\n",
       "      <td>NaN</td>\n",
       "      <td>2020-01-30</td>\n",
       "      <td>2020-03-02</td>\n",
       "      <td>NaN</td>\n",
       "      <td>released</td>\n",
       "    </tr>\n",
       "    <tr>\n",
       "      <td>2</td>\n",
       "      <td>1000000003</td>\n",
       "      <td>6.0</td>\n",
       "      <td>male</td>\n",
       "      <td>1964.0</td>\n",
       "      <td>50s</td>\n",
       "      <td>Korea</td>\n",
       "      <td>Seoul</td>\n",
       "      <td>Jongno-gu</td>\n",
       "      <td>NaN</td>\n",
       "      <td>contact with patient</td>\n",
       "      <td>2.0</td>\n",
       "      <td>2.002000e+09</td>\n",
       "      <td>17.0</td>\n",
       "      <td>NaN</td>\n",
       "      <td>2020-01-30</td>\n",
       "      <td>2020-02-19</td>\n",
       "      <td>NaN</td>\n",
       "      <td>released</td>\n",
       "    </tr>\n",
       "    <tr>\n",
       "      <td>3</td>\n",
       "      <td>1000000004</td>\n",
       "      <td>7.0</td>\n",
       "      <td>male</td>\n",
       "      <td>1991.0</td>\n",
       "      <td>20s</td>\n",
       "      <td>Korea</td>\n",
       "      <td>Seoul</td>\n",
       "      <td>Mapo-gu</td>\n",
       "      <td>NaN</td>\n",
       "      <td>overseas inflow</td>\n",
       "      <td>1.0</td>\n",
       "      <td>NaN</td>\n",
       "      <td>9.0</td>\n",
       "      <td>2020-01-26</td>\n",
       "      <td>2020-01-30</td>\n",
       "      <td>2020-02-15</td>\n",
       "      <td>NaN</td>\n",
       "      <td>released</td>\n",
       "    </tr>\n",
       "    <tr>\n",
       "      <td>4</td>\n",
       "      <td>1000000005</td>\n",
       "      <td>9.0</td>\n",
       "      <td>female</td>\n",
       "      <td>1992.0</td>\n",
       "      <td>20s</td>\n",
       "      <td>Korea</td>\n",
       "      <td>Seoul</td>\n",
       "      <td>Seongbuk-gu</td>\n",
       "      <td>NaN</td>\n",
       "      <td>contact with patient</td>\n",
       "      <td>2.0</td>\n",
       "      <td>1.000000e+09</td>\n",
       "      <td>2.0</td>\n",
       "      <td>NaN</td>\n",
       "      <td>2020-01-31</td>\n",
       "      <td>2020-02-24</td>\n",
       "      <td>NaN</td>\n",
       "      <td>released</td>\n",
       "    </tr>\n",
       "  </tbody>\n",
       "</table>\n",
       "</div>"
      ],
      "text/plain": [
       "   patient_id  global_num     sex  birth_year  age country province  \\\n",
       "0  1000000001         2.0    male      1964.0  50s   Korea    Seoul   \n",
       "1  1000000002         5.0    male      1987.0  30s   Korea    Seoul   \n",
       "2  1000000003         6.0    male      1964.0  50s   Korea    Seoul   \n",
       "3  1000000004         7.0    male      1991.0  20s   Korea    Seoul   \n",
       "4  1000000005         9.0  female      1992.0  20s   Korea    Seoul   \n",
       "\n",
       "          city disease        infection_case  infection_order   infected_by  \\\n",
       "0   Gangseo-gu     NaN       overseas inflow              1.0           NaN   \n",
       "1  Jungnang-gu     NaN       overseas inflow              1.0           NaN   \n",
       "2    Jongno-gu     NaN  contact with patient              2.0  2.002000e+09   \n",
       "3      Mapo-gu     NaN       overseas inflow              1.0           NaN   \n",
       "4  Seongbuk-gu     NaN  contact with patient              2.0  1.000000e+09   \n",
       "\n",
       "   contact_number symptom_onset_date confirmed_date released_date  \\\n",
       "0            75.0         2020-01-22     2020-01-23    2020-02-05   \n",
       "1            31.0                NaN     2020-01-30    2020-03-02   \n",
       "2            17.0                NaN     2020-01-30    2020-02-19   \n",
       "3             9.0         2020-01-26     2020-01-30    2020-02-15   \n",
       "4             2.0                NaN     2020-01-31    2020-02-24   \n",
       "\n",
       "  deceased_date     state  \n",
       "0           NaN  released  \n",
       "1           NaN  released  \n",
       "2           NaN  released  \n",
       "3           NaN  released  \n",
       "4           NaN  released  "
      ]
     },
     "execution_count": 4,
     "metadata": {},
     "output_type": "execute_result"
    }
   ],
   "source": [
    "# A look at what the data looks like\n",
    "patient.head()"
   ]
  },
  {
   "cell_type": "code",
   "execution_count": 5,
   "metadata": {
    "colab": {
     "base_uri": "https://localhost:8080/",
     "height": 297
    },
    "colab_type": "code",
    "executionInfo": {
     "elapsed": 665,
     "status": "ok",
     "timestamp": 1588185164587,
     "user": {
      "displayName": "Shaquitha Maruni",
      "photoUrl": "https://lh3.googleusercontent.com/a-/AOh14GgC05omiS7AyhyfwZRkFjTCiPsl1zt9cEj-ivR0=s64",
      "userId": "04272754151066914281"
     },
     "user_tz": 300
    },
    "id": "vCLj1LkVK7BE",
    "outputId": "3fc147a1-d1e8-4573-8a31-bf59110ae078"
   },
   "outputs": [
    {
     "data": {
      "text/html": [
       "<div>\n",
       "<style scoped>\n",
       "    .dataframe tbody tr th:only-of-type {\n",
       "        vertical-align: middle;\n",
       "    }\n",
       "\n",
       "    .dataframe tbody tr th {\n",
       "        vertical-align: top;\n",
       "    }\n",
       "\n",
       "    .dataframe thead th {\n",
       "        text-align: right;\n",
       "    }\n",
       "</style>\n",
       "<table border=\"1\" class=\"dataframe\">\n",
       "  <thead>\n",
       "    <tr style=\"text-align: right;\">\n",
       "      <th></th>\n",
       "      <th>patient_id</th>\n",
       "      <th>global_num</th>\n",
       "      <th>birth_year</th>\n",
       "      <th>infection_order</th>\n",
       "      <th>infected_by</th>\n",
       "      <th>contact_number</th>\n",
       "    </tr>\n",
       "  </thead>\n",
       "  <tbody>\n",
       "    <tr>\n",
       "      <td>count</td>\n",
       "      <td>3.326000e+03</td>\n",
       "      <td>2237.000000</td>\n",
       "      <td>2889.000000</td>\n",
       "      <td>31.000000</td>\n",
       "      <td>8.060000e+02</td>\n",
       "      <td>614.000000</td>\n",
       "    </tr>\n",
       "    <tr>\n",
       "      <td>mean</td>\n",
       "      <td>3.514908e+09</td>\n",
       "      <td>6669.169423</td>\n",
       "      <td>1974.956732</td>\n",
       "      <td>2.387097</td>\n",
       "      <td>2.671714e+09</td>\n",
       "      <td>18.710098</td>\n",
       "    </tr>\n",
       "    <tr>\n",
       "      <td>std</td>\n",
       "      <td>2.209142e+09</td>\n",
       "      <td>3321.396732</td>\n",
       "      <td>20.275471</td>\n",
       "      <td>1.453213</td>\n",
       "      <td>1.740450e+09</td>\n",
       "      <td>75.352899</td>\n",
       "    </tr>\n",
       "    <tr>\n",
       "      <td>min</td>\n",
       "      <td>1.000000e+09</td>\n",
       "      <td>1.000000</td>\n",
       "      <td>1916.000000</td>\n",
       "      <td>1.000000</td>\n",
       "      <td>1.000000e+09</td>\n",
       "      <td>0.000000</td>\n",
       "    </tr>\n",
       "    <tr>\n",
       "      <td>25%</td>\n",
       "      <td>1.300000e+09</td>\n",
       "      <td>4172.000000</td>\n",
       "      <td>1961.000000</td>\n",
       "      <td>1.000000</td>\n",
       "      <td>1.200000e+09</td>\n",
       "      <td>2.000000</td>\n",
       "    </tr>\n",
       "    <tr>\n",
       "      <td>50%</td>\n",
       "      <td>2.000001e+09</td>\n",
       "      <td>7855.000000</td>\n",
       "      <td>1975.000000</td>\n",
       "      <td>2.000000</td>\n",
       "      <td>2.000000e+09</td>\n",
       "      <td>4.000000</td>\n",
       "    </tr>\n",
       "    <tr>\n",
       "      <td>75%</td>\n",
       "      <td>6.001001e+09</td>\n",
       "      <td>9433.000000</td>\n",
       "      <td>1993.000000</td>\n",
       "      <td>3.000000</td>\n",
       "      <td>4.100000e+09</td>\n",
       "      <td>14.000000</td>\n",
       "    </tr>\n",
       "    <tr>\n",
       "      <td>max</td>\n",
       "      <td>7.000000e+09</td>\n",
       "      <td>10660.000000</td>\n",
       "      <td>2020.000000</td>\n",
       "      <td>6.000000</td>\n",
       "      <td>7.000000e+09</td>\n",
       "      <td>1160.000000</td>\n",
       "    </tr>\n",
       "  </tbody>\n",
       "</table>\n",
       "</div>"
      ],
      "text/plain": [
       "         patient_id    global_num   birth_year  infection_order   infected_by  \\\n",
       "count  3.326000e+03   2237.000000  2889.000000        31.000000  8.060000e+02   \n",
       "mean   3.514908e+09   6669.169423  1974.956732         2.387097  2.671714e+09   \n",
       "std    2.209142e+09   3321.396732    20.275471         1.453213  1.740450e+09   \n",
       "min    1.000000e+09      1.000000  1916.000000         1.000000  1.000000e+09   \n",
       "25%    1.300000e+09   4172.000000  1961.000000         1.000000  1.200000e+09   \n",
       "50%    2.000001e+09   7855.000000  1975.000000         2.000000  2.000000e+09   \n",
       "75%    6.001001e+09   9433.000000  1993.000000         3.000000  4.100000e+09   \n",
       "max    7.000000e+09  10660.000000  2020.000000         6.000000  7.000000e+09   \n",
       "\n",
       "       contact_number  \n",
       "count      614.000000  \n",
       "mean        18.710098  \n",
       "std         75.352899  \n",
       "min          0.000000  \n",
       "25%          2.000000  \n",
       "50%          4.000000  \n",
       "75%         14.000000  \n",
       "max       1160.000000  "
      ]
     },
     "execution_count": 5,
     "metadata": {},
     "output_type": "execute_result"
    }
   ],
   "source": [
    "# How is the data structured\n",
    "patient.describe()"
   ]
  },
  {
   "cell_type": "code",
   "execution_count": 6,
   "metadata": {
    "colab": {
     "base_uri": "https://localhost:8080/",
     "height": 442
    },
    "colab_type": "code",
    "executionInfo": {
     "elapsed": 779,
     "status": "ok",
     "timestamp": 1588185164709,
     "user": {
      "displayName": "Shaquitha Maruni",
      "photoUrl": "https://lh3.googleusercontent.com/a-/AOh14GgC05omiS7AyhyfwZRkFjTCiPsl1zt9cEj-ivR0=s64",
      "userId": "04272754151066914281"
     },
     "user_tz": 300
    },
    "id": "GE9dTJd7K7BH",
    "outputId": "c0b7818e-468e-4729-9314-d216534c8995"
   },
   "outputs": [
    {
     "name": "stdout",
     "output_type": "stream",
     "text": [
      "<class 'pandas.core.frame.DataFrame'>\n",
      "RangeIndex: 3326 entries, 0 to 3325\n",
      "Data columns (total 18 columns):\n",
      "patient_id            3326 non-null int64\n",
      "global_num            2237 non-null float64\n",
      "sex                   3260 non-null object\n",
      "birth_year            2889 non-null float64\n",
      "age                   3252 non-null object\n",
      "country               3326 non-null object\n",
      "province              3326 non-null object\n",
      "city                  3247 non-null object\n",
      "disease               18 non-null object\n",
      "infection_case        2559 non-null object\n",
      "infection_order       31 non-null float64\n",
      "infected_by           806 non-null float64\n",
      "contact_number        614 non-null float64\n",
      "symptom_onset_date    471 non-null object\n",
      "confirmed_date        3323 non-null object\n",
      "released_date         1218 non-null object\n",
      "deceased_date         60 non-null object\n",
      "state                 3326 non-null object\n",
      "dtypes: float64(5), int64(1), object(12)\n",
      "memory usage: 467.8+ KB\n"
     ]
    }
   ],
   "source": [
    "patient.info()"
   ]
  },
  {
   "cell_type": "markdown",
   "metadata": {},
   "source": [
    "# Exploratory Data Analysis\n",
    "## Use seaborn to create a simple heatmap to SHOW missing data.\n",
    "Missing data can be a limitation in implementing our algorithms"
   ]
  },
  {
   "cell_type": "code",
   "execution_count": 7,
   "metadata": {},
   "outputs": [
    {
     "data": {
      "text/plain": [
       "<matplotlib.axes._subplots.AxesSubplot at 0x1a17f39a50>"
      ]
     },
     "execution_count": 7,
     "metadata": {},
     "output_type": "execute_result"
    },
    {
     "data": {
      "image/png": "[encoded data removed]",
      "text/plain": [
       "<Figure size 432x288 with 1 Axes>"
      ]
     },
     "metadata": {
      "needs_background": "light"
     },
     "output_type": "display_data"
    }
   ],
   "source": [
    "sns.heatmap(patient.isnull(),yticklabels=False,cbar=False,cmap='viridis')"
   ]
  },
  {
   "cell_type": "markdown",
   "metadata": {},
   "source": [
    "Our columns of interest are: sex, birth_year, age, disease and deceased state.\n",
    "\n",
    "\n",
    "The heatmap above shows our disease and deceased state column requires some data cleaning."
   ]
  },
  {
   "cell_type": "markdown",
   "metadata": {},
   "source": [
    "# Visualizing the Data"
   ]
  },
  {
   "cell_type": "markdown",
   "metadata": {},
   "source": [
    "## Total Confirmed Cases by Gender\n",
    "Here we will get the counts of each gender group in order to create a pie chart."
   ]
  },
  {
   "cell_type": "code",
   "execution_count": 8,
   "metadata": {},
   "outputs": [
    {
     "data": {
      "text/plain": [
       "female    1831\n",
       "male      1429\n",
       "Name: sex, dtype: int64"
      ]
     },
     "execution_count": 8,
     "metadata": {},
     "output_type": "execute_result"
    }
   ],
   "source": [
    "patient['sex'].value_counts()"
   ]
  },
  {
   "cell_type": "code",
   "execution_count": 9,
   "metadata": {},
   "outputs": [
    {
     "data": {
      "image/png": "[encoded data removed]",
      "text/plain": [
       "<Figure size 432x288 with 1 Axes>"
      ]
     },
     "metadata": {},
     "output_type": "display_data"
    }
   ],
   "source": [
    "# Data to plot\n",
    "labels = 'Male', 'Female'\n",
    "sizes = [1429, 1831]\n",
    "colors = ['gold', 'lightskyblue']\n",
    "explode = (0.1, 0)  # explode 1st slice\n",
    "\n",
    "# Plot\n",
    "plt.pie(sizes, explode=explode, labels=labels, colors=colors,\n",
    "autopct='%1.1f%%', shadow=True, startangle=140)\n",
    "\n",
    "plt.axis('equal')\n",
    "plt.title('Total Confirmed Cases by Gender')\n",
    "plt.show()"
   ]
  },
  {
   "cell_type": "code",
   "execution_count": 10,
   "metadata": {},
   "outputs": [],
   "source": [
    "# Remove rows without a deceased date. This implies they are not deceased.\n",
    "\n",
    "df1 = patient[patient.deceased_date.notnull()]"
   ]
  },
  {
   "cell_type": "markdown",
   "metadata": {},
   "source": [
    "## Total Deceased Cases by Gender\n",
    "Here we will get the counts of each gender group of the deceased in order to create a pie chart."
   ]
  },
  {
   "cell_type": "code",
   "execution_count": 11,
   "metadata": {},
   "outputs": [
    {
     "data": {
      "text/plain": [
       "male      39\n",
       "female    21\n",
       "Name: sex, dtype: int64"
      ]
     },
     "execution_count": 11,
     "metadata": {},
     "output_type": "execute_result"
    }
   ],
   "source": [
    "df1['sex'].value_counts()"
   ]
  },
  {
   "cell_type": "code",
   "execution_count": 12,
   "metadata": {},
   "outputs": [],
   "source": [
    "# Data to plot\n",
    "labels = 'Male', 'Female'\n",
    "sizes = [39, 21]\n",
    "colors = ['gold', 'lightskyblue']\n",
    "explode = (0.1, 0)  # explode 1st slice"
   ]
  },
  {
   "cell_type": "code",
   "execution_count": 13,
   "metadata": {},
   "outputs": [
    {
     "data": {
      "image/png": "[encoded data removed]",
      "text/plain": [
       "<Figure size 432x288 with 1 Axes>"
      ]
     },
     "metadata": {},
     "output_type": "display_data"
    }
   ],
   "source": [
    "# Plot\n",
    "plt.pie(sizes, explode=explode, labels=labels, colors=colors,\n",
    "autopct='%1.1f%%', shadow=True, startangle=140)\n",
    "\n",
    "plt.axis('equal')\n",
    "plt.title('Total Deceased Cases by Gender')\n",
    "plt.show()"
   ]
  },
  {
   "cell_type": "markdown",
   "metadata": {},
   "source": [
    "## Total Deceased by Age Range\n",
    "Here we will get the counts of each age group of the deceased in order to create a bar chart graph. "
   ]
  },
  {
   "cell_type": "code",
   "execution_count": 14,
   "metadata": {},
   "outputs": [
    {
     "data": {
      "text/plain": [
       "80s    19\n",
       "70s    16\n",
       "60s    11\n",
       "50s     7\n",
       "90s     6\n",
       "30s     1\n",
       "Name: age, dtype: int64"
      ]
     },
     "execution_count": 14,
     "metadata": {},
     "output_type": "execute_result"
    }
   ],
   "source": [
    "# get counts\n",
    "df1['age'].value_counts()"
   ]
  },
  {
   "cell_type": "code",
   "execution_count": 15,
   "metadata": {},
   "outputs": [
    {
     "data": {
      "image/png": "[encoded data removed]",
      "text/plain": [
       "<Figure size 640x480 with 1 Axes>"
      ]
     },
     "metadata": {},
     "output_type": "display_data"
    }
   ],
   "source": [
    "# plot the graph!\n",
    "import matplotlib.pyplot as plt; plt.rcdefaults()\n",
    "import numpy as np\n",
    "import matplotlib.pyplot as plt\n",
    "\n",
    "objects = ('10s','20s','30s','40s','50s','60s','70s','80s','90s')\n",
    "y_pos = np.arange(len(objects))\n",
    "performance = [0,0,1,0,7,11,16,19,6]\n",
    "\n",
    "plt.bar(y_pos, performance, align='center', alpha=0.5)\n",
    "plt.xticks(y_pos, objects)\n",
    "plt.ylabel('Total Deceased Count')\n",
    "plt.xlabel('Age')\n",
    "plt.title('Total Deceased by Age Range')\n",
    "\n",
    "plt.show()"
   ]
  },
  {
   "cell_type": "markdown",
   "metadata": {},
   "source": [
    "## Patients with Underlying Disease\n",
    "Now, we will take a look and see if having an underlying disease is related to those that are deceased."
   ]
  },
  {
   "cell_type": "code",
   "execution_count": 16,
   "metadata": {},
   "outputs": [
    {
     "data": {
      "text/plain": [
       "True    18\n",
       "Name: disease, dtype: int64"
      ]
     },
     "execution_count": 16,
     "metadata": {},
     "output_type": "execute_result"
    }
   ],
   "source": [
    "#get counts of disease column. true means they have one, false means they don't \n",
    "\n",
    "patient['disease'].value_counts()"
   ]
  },
  {
   "cell_type": "code",
   "execution_count": 17,
   "metadata": {},
   "outputs": [
    {
     "data": {
      "image/png": "[encoded data removed]",
      "text/plain": [
       "<Figure size 640x480 with 1 Axes>"
      ]
     },
     "metadata": {},
     "output_type": "display_data"
    }
   ],
   "source": [
    "# Data to plot\n",
    "labels = 'with Underlying Disease', 'Without Underlying Diseaase'\n",
    "sizes = [18, 3308]\n",
    "colors = ['red', 'green']\n",
    "explode = (0.1, 0)  # explode 1st slice\n",
    "\n",
    "# Plot\n",
    "plt.pie(sizes, explode=explode, labels=labels, colors=colors,\n",
    "autopct='%1.1f%%', shadow=True, startangle=140)\n",
    "\n",
    "plt.axis('equal')\n",
    "plt.title('Patients with Underlying Disease')\n",
    "plt.show()"
   ]
  },
  {
   "cell_type": "markdown",
   "metadata": {},
   "source": [
    "If we take a look at just the counts of those with an underlying disease that are also deceased, every patient with an underlying disease did not survive."
   ]
  },
  {
   "cell_type": "code",
   "execution_count": 18,
   "metadata": {},
   "outputs": [
    {
     "data": {
      "text/plain": [
       "True    18\n",
       "Name: disease, dtype: int64"
      ]
     },
     "execution_count": 18,
     "metadata": {},
     "output_type": "execute_result"
    }
   ],
   "source": [
    "df1['disease'].value_counts()"
   ]
  },
  {
   "cell_type": "markdown",
   "metadata": {},
   "source": [
    "## Data Cleaning\n"
   ]
  },
  {
   "cell_type": "markdown",
   "metadata": {
    "colab_type": "text",
    "id": "tjsSG6THK7BH"
   },
   "source": [
    "### Columns to isolate for this analysis\n",
    "\n",
    "Sex - Sex of the patient\n",
    "\n",
    "Age - Age of patient\n",
    "\n",
    "Disease - Does the patient have an underlying condition\n",
    "\n",
    "Deceased - Deceased date\n"
   ]
  },
  {
   "cell_type": "code",
   "execution_count": 19,
   "metadata": {
    "colab": {
     "base_uri": "https://localhost:8080/",
     "height": 442
    },
    "colab_type": "code",
    "executionInfo": {
     "elapsed": 773,
     "status": "ok",
     "timestamp": 1588185164710,
     "user": {
      "displayName": "Shaquitha Maruni",
      "photoUrl": "https://lh3.googleusercontent.com/a-/AOh14GgC05omiS7AyhyfwZRkFjTCiPsl1zt9cEj-ivR0=s64",
      "userId": "04272754151066914281"
     },
     "user_tz": 300
    },
    "id": "U5BSP5XXK7BJ",
    "outputId": "4e2e56d3-a26f-4ea2-f6d3-954210a610d8"
   },
   "outputs": [
    {
     "name": "stdout",
     "output_type": "stream",
     "text": [
      "<class 'pandas.core.frame.DataFrame'>\n",
      "RangeIndex: 3326 entries, 0 to 3325\n",
      "Data columns (total 20 columns):\n",
      "patient_id            3326 non-null int64\n",
      "global_num            2237 non-null float64\n",
      "sex                   3260 non-null object\n",
      "birth_year            2889 non-null float64\n",
      "age                   3252 non-null object\n",
      "country               3326 non-null object\n",
      "province              3326 non-null object\n",
      "city                  3247 non-null object\n",
      "disease               18 non-null object\n",
      "infection_case        2559 non-null object\n",
      "infection_order       31 non-null float64\n",
      "infected_by           806 non-null float64\n",
      "contact_number        614 non-null float64\n",
      "symptom_onset_date    471 non-null object\n",
      "confirmed_date        3323 non-null datetime64[ns]\n",
      "released_date         1218 non-null object\n",
      "deceased_date         60 non-null datetime64[ns]\n",
      "state                 3326 non-null object\n",
      "daysToDecease         3326 non-null float64\n",
      "deceased              3326 non-null bool\n",
      "dtypes: bool(1), datetime64[ns](2), float64(6), int64(1), object(10)\n",
      "memory usage: 497.1+ KB\n"
     ]
    }
   ],
   "source": [
    "# Convert Date strings into actual dates\n",
    "patient['confirmed_date'] = pd.to_datetime(patient['confirmed_date'])\n",
    "patient['deceased_date'] = pd.to_datetime(patient['deceased_date'])\n",
    "\n",
    "# Calculate difference between confirm date and decease\n",
    "patient['daysToDecease'] = (patient['deceased_date'] - patient['confirmed_date'])/np.timedelta64(1,'D')\n",
    "\n",
    "# Fill blanks with 0\n",
    "patient['daysToDecease'] = patient['daysToDecease'].fillna(0)\n",
    "\n",
    "\n",
    "# Find deceased vs released\n",
    "patient['deceased'] = patient['daysToDecease'].apply(lambda x: x > 0)\n",
    "\n",
    "# released_date and deceased_date now datetime\n",
    "patient.info()"
   ]
  },
  {
   "cell_type": "code",
   "execution_count": 20,
   "metadata": {
    "colab": {
     "base_uri": "https://localhost:8080/",
     "height": 292
    },
    "colab_type": "code",
    "executionInfo": {
     "elapsed": 962,
     "status": "ok",
     "timestamp": 1588185164905,
     "user": {
      "displayName": "Shaquitha Maruni",
      "photoUrl": "https://lh3.googleusercontent.com/a-/AOh14GgC05omiS7AyhyfwZRkFjTCiPsl1zt9cEj-ivR0=s64",
      "userId": "04272754151066914281"
     },
     "user_tz": 300
    },
    "id": "NIb4-YW3K7BP",
    "outputId": "38d31436-eb67-49e9-896b-ee6854b4c3e1"
   },
   "outputs": [
    {
     "data": {
      "text/html": [
       "<div>\n",
       "<style scoped>\n",
       "    .dataframe tbody tr th:only-of-type {\n",
       "        vertical-align: middle;\n",
       "    }\n",
       "\n",
       "    .dataframe tbody tr th {\n",
       "        vertical-align: top;\n",
       "    }\n",
       "\n",
       "    .dataframe thead th {\n",
       "        text-align: right;\n",
       "    }\n",
       "</style>\n",
       "<table border=\"1\" class=\"dataframe\">\n",
       "  <thead>\n",
       "    <tr style=\"text-align: right;\">\n",
       "      <th></th>\n",
       "      <th>patient_id</th>\n",
       "      <th>global_num</th>\n",
       "      <th>sex</th>\n",
       "      <th>birth_year</th>\n",
       "      <th>age</th>\n",
       "      <th>country</th>\n",
       "      <th>province</th>\n",
       "      <th>city</th>\n",
       "      <th>disease</th>\n",
       "      <th>infection_case</th>\n",
       "      <th>infection_order</th>\n",
       "      <th>infected_by</th>\n",
       "      <th>contact_number</th>\n",
       "      <th>symptom_onset_date</th>\n",
       "      <th>confirmed_date</th>\n",
       "      <th>released_date</th>\n",
       "      <th>deceased_date</th>\n",
       "      <th>state</th>\n",
       "      <th>daysToDecease</th>\n",
       "      <th>deceased</th>\n",
       "    </tr>\n",
       "  </thead>\n",
       "  <tbody>\n",
       "    <tr>\n",
       "      <td>0</td>\n",
       "      <td>1000000001</td>\n",
       "      <td>2.0</td>\n",
       "      <td>male</td>\n",
       "      <td>1964.0</td>\n",
       "      <td>50s</td>\n",
       "      <td>Korea</td>\n",
       "      <td>Seoul</td>\n",
       "      <td>Gangseo-gu</td>\n",
       "      <td>NaN</td>\n",
       "      <td>overseas inflow</td>\n",
       "      <td>1.0</td>\n",
       "      <td>NaN</td>\n",
       "      <td>75.0</td>\n",
       "      <td>2020-01-22</td>\n",
       "      <td>2020-01-23</td>\n",
       "      <td>2020-02-05</td>\n",
       "      <td>NaT</td>\n",
       "      <td>released</td>\n",
       "      <td>0.0</td>\n",
       "      <td>False</td>\n",
       "    </tr>\n",
       "    <tr>\n",
       "      <td>1</td>\n",
       "      <td>1000000002</td>\n",
       "      <td>5.0</td>\n",
       "      <td>male</td>\n",
       "      <td>1987.0</td>\n",
       "      <td>30s</td>\n",
       "      <td>Korea</td>\n",
       "      <td>Seoul</td>\n",
       "      <td>Jungnang-gu</td>\n",
       "      <td>NaN</td>\n",
       "      <td>overseas inflow</td>\n",
       "      <td>1.0</td>\n",
       "      <td>NaN</td>\n",
       "      <td>31.0</td>\n",
       "      <td>NaN</td>\n",
       "      <td>2020-01-30</td>\n",
       "      <td>2020-03-02</td>\n",
       "      <td>NaT</td>\n",
       "      <td>released</td>\n",
       "      <td>0.0</td>\n",
       "      <td>False</td>\n",
       "    </tr>\n",
       "    <tr>\n",
       "      <td>2</td>\n",
       "      <td>1000000003</td>\n",
       "      <td>6.0</td>\n",
       "      <td>male</td>\n",
       "      <td>1964.0</td>\n",
       "      <td>50s</td>\n",
       "      <td>Korea</td>\n",
       "      <td>Seoul</td>\n",
       "      <td>Jongno-gu</td>\n",
       "      <td>NaN</td>\n",
       "      <td>contact with patient</td>\n",
       "      <td>2.0</td>\n",
       "      <td>2.002000e+09</td>\n",
       "      <td>17.0</td>\n",
       "      <td>NaN</td>\n",
       "      <td>2020-01-30</td>\n",
       "      <td>2020-02-19</td>\n",
       "      <td>NaT</td>\n",
       "      <td>released</td>\n",
       "      <td>0.0</td>\n",
       "      <td>False</td>\n",
       "    </tr>\n",
       "    <tr>\n",
       "      <td>3</td>\n",
       "      <td>1000000004</td>\n",
       "      <td>7.0</td>\n",
       "      <td>male</td>\n",
       "      <td>1991.0</td>\n",
       "      <td>20s</td>\n",
       "      <td>Korea</td>\n",
       "      <td>Seoul</td>\n",
       "      <td>Mapo-gu</td>\n",
       "      <td>NaN</td>\n",
       "      <td>overseas inflow</td>\n",
       "      <td>1.0</td>\n",
       "      <td>NaN</td>\n",
       "      <td>9.0</td>\n",
       "      <td>2020-01-26</td>\n",
       "      <td>2020-01-30</td>\n",
       "      <td>2020-02-15</td>\n",
       "      <td>NaT</td>\n",
       "      <td>released</td>\n",
       "      <td>0.0</td>\n",
       "      <td>False</td>\n",
       "    </tr>\n",
       "    <tr>\n",
       "      <td>4</td>\n",
       "      <td>1000000005</td>\n",
       "      <td>9.0</td>\n",
       "      <td>female</td>\n",
       "      <td>1992.0</td>\n",
       "      <td>20s</td>\n",
       "      <td>Korea</td>\n",
       "      <td>Seoul</td>\n",
       "      <td>Seongbuk-gu</td>\n",
       "      <td>NaN</td>\n",
       "      <td>contact with patient</td>\n",
       "      <td>2.0</td>\n",
       "      <td>1.000000e+09</td>\n",
       "      <td>2.0</td>\n",
       "      <td>NaN</td>\n",
       "      <td>2020-01-31</td>\n",
       "      <td>2020-02-24</td>\n",
       "      <td>NaT</td>\n",
       "      <td>released</td>\n",
       "      <td>0.0</td>\n",
       "      <td>False</td>\n",
       "    </tr>\n",
       "  </tbody>\n",
       "</table>\n",
       "</div>"
      ],
      "text/plain": [
       "   patient_id  global_num     sex  birth_year  age country province  \\\n",
       "0  1000000001         2.0    male      1964.0  50s   Korea    Seoul   \n",
       "1  1000000002         5.0    male      1987.0  30s   Korea    Seoul   \n",
       "2  1000000003         6.0    male      1964.0  50s   Korea    Seoul   \n",
       "3  1000000004         7.0    male      1991.0  20s   Korea    Seoul   \n",
       "4  1000000005         9.0  female      1992.0  20s   Korea    Seoul   \n",
       "\n",
       "          city disease        infection_case  infection_order   infected_by  \\\n",
       "0   Gangseo-gu     NaN       overseas inflow              1.0           NaN   \n",
       "1  Jungnang-gu     NaN       overseas inflow              1.0           NaN   \n",
       "2    Jongno-gu     NaN  contact with patient              2.0  2.002000e+09   \n",
       "3      Mapo-gu     NaN       overseas inflow              1.0           NaN   \n",
       "4  Seongbuk-gu     NaN  contact with patient              2.0  1.000000e+09   \n",
       "\n",
       "   contact_number symptom_onset_date confirmed_date released_date  \\\n",
       "0            75.0         2020-01-22     2020-01-23    2020-02-05   \n",
       "1            31.0                NaN     2020-01-30    2020-03-02   \n",
       "2            17.0                NaN     2020-01-30    2020-02-19   \n",
       "3             9.0         2020-01-26     2020-01-30    2020-02-15   \n",
       "4             2.0                NaN     2020-01-31    2020-02-24   \n",
       "\n",
       "  deceased_date     state  daysToDecease  deceased  \n",
       "0           NaT  released            0.0     False  \n",
       "1           NaT  released            0.0     False  \n",
       "2           NaT  released            0.0     False  \n",
       "3           NaT  released            0.0     False  \n",
       "4           NaT  released            0.0     False  "
      ]
     },
     "execution_count": 20,
     "metadata": {},
     "output_type": "execute_result"
    }
   ],
   "source": [
    "patient.head()"
   ]
  },
  {
   "cell_type": "code",
   "execution_count": 21,
   "metadata": {
    "colab": {},
    "colab_type": "code",
    "id": "1-Z2XOjJK7BR"
   },
   "outputs": [],
   "source": [
    "# Cleanup disease and age so that age is not a range but an actual number\n",
    "patient['age'] = 2020 - patient['birth_year']\n",
    "patient['age'].fillna(patient['age'].mean(), inplace=True)\n",
    "\n",
    "patient['disease'].fillna(False, inplace=True)"
   ]
  },
  {
   "cell_type": "code",
   "execution_count": 22,
   "metadata": {
    "colab": {},
    "colab_type": "code",
    "id": "Ar1kf9qAK7BW"
   },
   "outputs": [],
   "source": [
    "# What are the columns I will be focusing on for final data set?\n",
    "cols = ['sex', 'age', 'disease', 'deceased' ]"
   ]
  },
  {
   "cell_type": "code",
   "execution_count": 23,
   "metadata": {
    "colab": {},
    "colab_type": "code",
    "id": "2ILDpm8WK7BY"
   },
   "outputs": [],
   "source": [
    "covid = patient[cols]"
   ]
  },
  {
   "cell_type": "code",
   "execution_count": 24,
   "metadata": {},
   "outputs": [
    {
     "data": {
      "text/plain": [
       "<matplotlib.axes._subplots.AxesSubplot at 0x1a1a12a1d0>"
      ]
     },
     "execution_count": 24,
     "metadata": {},
     "output_type": "execute_result"
    },
    {
     "data": {
      "image/png": "[encoded data removed]",
      "text/plain": [
       "<Figure size 640x480 with 1 Axes>"
      ]
     },
     "metadata": {},
     "output_type": "display_data"
    }
   ],
   "source": [
    "#a new heatmap to verify we are not missing data before using classification algorithm\n",
    "sns.heatmap(covid.isnull(),yticklabels=False,cbar=False,cmap='viridis')"
   ]
  },
  {
   "cell_type": "code",
   "execution_count": 25,
   "metadata": {
    "colab": {
     "base_uri": "https://localhost:8080/",
     "height": 204
    },
    "colab_type": "code",
    "executionInfo": {
     "elapsed": 955,
     "status": "ok",
     "timestamp": 1588185164907,
     "user": {
      "displayName": "Shaquitha Maruni",
      "photoUrl": "https://lh3.googleusercontent.com/a-/AOh14GgC05omiS7AyhyfwZRkFjTCiPsl1zt9cEj-ivR0=s64",
      "userId": "04272754151066914281"
     },
     "user_tz": 300
    },
    "id": "b4mkyE2xK7Ba",
    "outputId": "2ed40992-805c-4078-a14e-0c34ba9af9bf"
   },
   "outputs": [
    {
     "name": "stdout",
     "output_type": "stream",
     "text": [
      "<class 'pandas.core.frame.DataFrame'>\n",
      "RangeIndex: 3326 entries, 0 to 3325\n",
      "Data columns (total 4 columns):\n",
      "sex         3260 non-null object\n",
      "age         3326 non-null float64\n",
      "disease     3326 non-null bool\n",
      "deceased    3326 non-null bool\n",
      "dtypes: bool(2), float64(1), object(1)\n",
      "memory usage: 58.6+ KB\n"
     ]
    }
   ],
   "source": [
    "covid.dropna()\n",
    "covid.info()"
   ]
  },
  {
   "cell_type": "code",
   "execution_count": 26,
   "metadata": {
    "colab": {},
    "colab_type": "code",
    "id": "9SODixoRK7Bc"
   },
   "outputs": [],
   "source": [
    "#Use the pandas package to convert categorical features to dummy variables to get a cleaned dataframe\n",
    "covid = pd.get_dummies(covid, prefix_sep='_', drop_first=True)"
   ]
  },
  {
   "cell_type": "code",
   "execution_count": 27,
   "metadata": {
    "colab": {},
    "colab_type": "code",
    "id": "T8eslFP2K7Be"
   },
   "outputs": [],
   "source": [
    "# Update boolean values to either 0 or 1\n",
    "covid['disease'] = covid['disease'] * 1\n",
    "covid['deceased'] = covid['deceased'] * 1"
   ]
  },
  {
   "cell_type": "code",
   "execution_count": 28,
   "metadata": {
    "colab": {
     "base_uri": "https://localhost:8080/",
     "height": 204
    },
    "colab_type": "code",
    "executionInfo": {
     "elapsed": 1066,
     "status": "ok",
     "timestamp": 1588185165024,
     "user": {
      "displayName": "Shaquitha Maruni",
      "photoUrl": "https://lh3.googleusercontent.com/a-/AOh14GgC05omiS7AyhyfwZRkFjTCiPsl1zt9cEj-ivR0=s64",
      "userId": "04272754151066914281"
     },
     "user_tz": 300
    },
    "id": "bBnIzXDAK7Bg",
    "outputId": "835d3e56-7726-4c92-c8cf-0f4a7f757483"
   },
   "outputs": [
    {
     "data": {
      "text/html": [
       "<div>\n",
       "<style scoped>\n",
       "    .dataframe tbody tr th:only-of-type {\n",
       "        vertical-align: middle;\n",
       "    }\n",
       "\n",
       "    .dataframe tbody tr th {\n",
       "        vertical-align: top;\n",
       "    }\n",
       "\n",
       "    .dataframe thead th {\n",
       "        text-align: right;\n",
       "    }\n",
       "</style>\n",
       "<table border=\"1\" class=\"dataframe\">\n",
       "  <thead>\n",
       "    <tr style=\"text-align: right;\">\n",
       "      <th></th>\n",
       "      <th>age</th>\n",
       "      <th>disease</th>\n",
       "      <th>deceased</th>\n",
       "      <th>sex_male</th>\n",
       "    </tr>\n",
       "  </thead>\n",
       "  <tbody>\n",
       "    <tr>\n",
       "      <td>0</td>\n",
       "      <td>56.0</td>\n",
       "      <td>0</td>\n",
       "      <td>0</td>\n",
       "      <td>1</td>\n",
       "    </tr>\n",
       "    <tr>\n",
       "      <td>1</td>\n",
       "      <td>33.0</td>\n",
       "      <td>0</td>\n",
       "      <td>0</td>\n",
       "      <td>1</td>\n",
       "    </tr>\n",
       "    <tr>\n",
       "      <td>2</td>\n",
       "      <td>56.0</td>\n",
       "      <td>0</td>\n",
       "      <td>0</td>\n",
       "      <td>1</td>\n",
       "    </tr>\n",
       "    <tr>\n",
       "      <td>3</td>\n",
       "      <td>29.0</td>\n",
       "      <td>0</td>\n",
       "      <td>0</td>\n",
       "      <td>1</td>\n",
       "    </tr>\n",
       "    <tr>\n",
       "      <td>4</td>\n",
       "      <td>28.0</td>\n",
       "      <td>0</td>\n",
       "      <td>0</td>\n",
       "      <td>0</td>\n",
       "    </tr>\n",
       "  </tbody>\n",
       "</table>\n",
       "</div>"
      ],
      "text/plain": [
       "    age  disease  deceased  sex_male\n",
       "0  56.0        0         0         1\n",
       "1  33.0        0         0         1\n",
       "2  56.0        0         0         1\n",
       "3  29.0        0         0         1\n",
       "4  28.0        0         0         0"
      ]
     },
     "execution_count": 28,
     "metadata": {},
     "output_type": "execute_result"
    }
   ],
   "source": [
    "covid.head()"
   ]
  },
  {
   "cell_type": "code",
   "execution_count": 29,
   "metadata": {
    "colab": {
     "base_uri": "https://localhost:8080/",
     "height": 51
    },
    "colab_type": "code",
    "executionInfo": {
     "elapsed": 1064,
     "status": "ok",
     "timestamp": 1588185165024,
     "user": {
      "displayName": "Shaquitha Maruni",
      "photoUrl": "https://lh3.googleusercontent.com/a-/AOh14GgC05omiS7AyhyfwZRkFjTCiPsl1zt9cEj-ivR0=s64",
      "userId": "04272754151066914281"
     },
     "user_tz": 300
    },
    "id": "Opc-K-j-K7Bi",
    "outputId": "d0a8c85f-30b4-494b-f79b-0991cacc0998"
   },
   "outputs": [
    {
     "name": "stdout",
     "output_type": "stream",
     "text": [
      "Number deceased: 53\n",
      "Number survived: 3273\n"
     ]
    }
   ],
   "source": [
    "print( 'Number deceased: ' + str(covid[covid['deceased'] > 0]['age'].count()) )\n",
    "print( 'Number survived: ' + str(covid[covid['deceased'] == 0]['age'].count()) )"
   ]
  },
  {
   "cell_type": "code",
   "execution_count": 30,
   "metadata": {
    "colab": {
     "base_uri": "https://localhost:8080/",
     "height": 204
    },
    "colab_type": "code",
    "executionInfo": {
     "elapsed": 1063,
     "status": "ok",
     "timestamp": 1588185165025,
     "user": {
      "displayName": "Shaquitha Maruni",
      "photoUrl": "https://lh3.googleusercontent.com/a-/AOh14GgC05omiS7AyhyfwZRkFjTCiPsl1zt9cEj-ivR0=s64",
      "userId": "04272754151066914281"
     },
     "user_tz": 300
    },
    "id": "YFaWQSLVK7Bk",
    "outputId": "cbe2bea0-7469-408d-bc31-869b368fb382"
   },
   "outputs": [
    {
     "name": "stdout",
     "output_type": "stream",
     "text": [
      "<class 'pandas.core.frame.DataFrame'>\n",
      "Int64Index: 203 entries, 0 to 3093\n",
      "Data columns (total 4 columns):\n",
      "age         203 non-null float64\n",
      "disease     203 non-null int64\n",
      "deceased    203 non-null int64\n",
      "sex_male    203 non-null uint8\n",
      "dtypes: float64(1), int64(2), uint8(1)\n",
      "memory usage: 6.5 KB\n"
     ]
    }
   ],
   "source": [
    "# Numbers are heavily skewed so adjust to have a 1:2 ratio, take only 150 from the total survived\n",
    "c1 = covid[covid['deceased'] == 0].head(n=150)\n",
    "c1 = pd.concat([c1, covid[covid['deceased'] > 0]])\n",
    "c1.info()"
   ]
  },
  {
   "cell_type": "code",
   "execution_count": 31,
   "metadata": {
    "colab": {},
    "colab_type": "code",
    "id": "EkjKcON-K7Bm"
   },
   "outputs": [],
   "source": [
    "# Get our independent variables - sex, age, disease\n",
    "X = np.array(c1.drop(['deceased'], 1).astype(float))\n",
    "\n",
    "# Get the dependent variable or value we are trying to predict - deceased\n",
    "y = np.array(c1['deceased'])"
   ]
  },
  {
   "cell_type": "markdown",
   "metadata": {},
   "source": [
    "Splitting the dataset into the Training set and Test set\n",
    "\n",
    "Data split into 20% toward Test data with the other 80% being used to train the model"
   ]
  },
  {
   "cell_type": "code",
   "execution_count": 32,
   "metadata": {},
   "outputs": [],
   "source": [
    "from sklearn.model_selection import train_test_split\n",
    "X_train, X_test, y_train, y_test = train_test_split(X, y, test_size = 0.2, random_state = 0)\n"
   ]
  },
  {
   "cell_type": "code",
   "execution_count": 33,
   "metadata": {
    "colab": {
     "base_uri": "https://localhost:8080/",
     "height": 102
    },
    "colab_type": "code",
    "executionInfo": {
     "elapsed": 1060,
     "status": "ok",
     "timestamp": 1588185165026,
     "user": {
      "displayName": "Shaquitha Maruni",
      "photoUrl": "https://lh3.googleusercontent.com/a-/AOh14GgC05omiS7AyhyfwZRkFjTCiPsl1zt9cEj-ivR0=s64",
      "userId": "04272754151066914281"
     },
     "user_tz": 300
    },
    "id": "12DgLkuKK7Bo",
    "outputId": "18e84ee4-7001-40c3-bbc5-654ab78d42fa"
   },
   "outputs": [
    {
     "data": {
      "text/plain": [
       "array([[65.,  0.,  1.],\n",
       "       [58.,  0.,  1.],\n",
       "       [52.,  0.,  1.],\n",
       "       [51.,  0.,  0.],\n",
       "       [91.,  0.,  0.]])"
      ]
     },
     "execution_count": 33,
     "metadata": {},
     "output_type": "execute_result"
    }
   ],
   "source": [
    "X_train[:5]"
   ]
  },
  {
   "cell_type": "code",
   "execution_count": 34,
   "metadata": {
    "colab": {
     "base_uri": "https://localhost:8080/",
     "height": 34
    },
    "colab_type": "code",
    "executionInfo": {
     "elapsed": 1058,
     "status": "ok",
     "timestamp": 1588185165026,
     "user": {
      "displayName": "Shaquitha Maruni",
      "photoUrl": "https://lh3.googleusercontent.com/a-/AOh14GgC05omiS7AyhyfwZRkFjTCiPsl1zt9cEj-ivR0=s64",
      "userId": "04272754151066914281"
     },
     "user_tz": 300
    },
    "id": "klKgFM_yK7Br",
    "outputId": "fe515b50-9b82-43c4-be99-fe3df9aaa7d3"
   },
   "outputs": [
    {
     "data": {
      "text/plain": [
       "array([0, 0, 0, 0, 1])"
      ]
     },
     "execution_count": 34,
     "metadata": {},
     "output_type": "execute_result"
    }
   ],
   "source": [
    "y_train[:5]"
   ]
  },
  {
   "cell_type": "markdown",
   "metadata": {
    "colab_type": "text",
    "id": "JV7M2fmIK7B4"
   },
   "source": [
    "## Building a classification model using logistic regression\n",
    "\n",
    "Logistic regression is a classification algorithm used to assign observations to a discrete set of classes. In this case we are assigning the observation of age, sex and pre-existing conditions to determine whether a patient dies or not which is a binary result. "
   ]
  },
  {
   "cell_type": "code",
   "execution_count": 35,
   "metadata": {
    "colab": {
     "base_uri": "https://localhost:8080/",
     "height": 102
    },
    "colab_type": "code",
    "executionInfo": {
     "elapsed": 1228,
     "status": "ok",
     "timestamp": 1588185165213,
     "user": {
      "displayName": "Shaquitha Maruni",
      "photoUrl": "https://lh3.googleusercontent.com/a-/AOh14GgC05omiS7AyhyfwZRkFjTCiPsl1zt9cEj-ivR0=s64",
      "userId": "04272754151066914281"
     },
     "user_tz": 300
    },
    "id": "3QTiHdXuK7B5",
    "outputId": "38140da4-ad27-4e10-c8da-864e850fb659"
   },
   "outputs": [
    {
     "name": "stderr",
     "output_type": "stream",
     "text": [
      "/Users/smaruni/opt/anaconda3/lib/python3.7/site-packages/sklearn/linear_model/logistic.py:432: FutureWarning: Default solver will be changed to 'lbfgs' in 0.22. Specify a solver to silence this warning.\n",
      "  FutureWarning)\n"
     ]
    }
   ],
   "source": [
    "# Import the Logistic regression model\n",
    "from sklearn.linear_model import LogisticRegression\n",
    "\n",
    "# Build a LogisticRegression classifier and train it using the provided traing data created above\n",
    "classifier = LogisticRegression()\n",
    "classifier.fit(X_train, y_train)\n",
    "y_pred=classifier.predict(X_test)"
   ]
  },
  {
   "cell_type": "code",
   "execution_count": 36,
   "metadata": {
    "colab": {
     "base_uri": "https://localhost:8080/",
     "height": 34
    },
    "colab_type": "code",
    "executionInfo": {
     "elapsed": 1226,
     "status": "ok",
     "timestamp": 1588185165213,
     "user": {
      "displayName": "Shaquitha Maruni",
      "photoUrl": "https://lh3.googleusercontent.com/a-/AOh14GgC05omiS7AyhyfwZRkFjTCiPsl1zt9cEj-ivR0=s64",
      "userId": "04272754151066914281"
     },
     "user_tz": 300
    },
    "id": "bjspIvPlK7B6",
    "outputId": "edef8eef-5225-4931-ea24-86c53cf7a335"
   },
   "outputs": [
    {
     "name": "stdout",
     "output_type": "stream",
     "text": [
      "Score for logistic regression: 0.9024390243902439\n"
     ]
    }
   ],
   "source": [
    "# Using the test set computed score the model we built\n",
    "\n",
    "print('Score for logistic regression: ' + str(classifier.score(X_test, y_test)))"
   ]
  },
  {
   "cell_type": "markdown",
   "metadata": {
    "colab_type": "text",
    "id": "H2-QxZypK7B8"
   },
   "source": [
    "Explanation of above score\n",
    "\n",
    "The computed score of 0.90 let's us know that for the given test set we were accurate about 90% of the time. "
   ]
  },
  {
   "cell_type": "markdown",
   "metadata": {
    "colab_type": "text",
    "id": "XMf_zJSWK7B9"
   },
   "source": [
    "## Sample Predictions\n",
    "\n",
    "Build predictions based on trends by age, pre-existing condition and gender"
   ]
  },
  {
   "cell_type": "code",
   "execution_count": 37,
   "metadata": {
    "colab": {
     "base_uri": "https://localhost:8080/",
     "height": 102
    },
    "colab_type": "code",
    "executionInfo": {
     "elapsed": 1223,
     "status": "ok",
     "timestamp": 1588185165213,
     "user": {
      "displayName": "Shaquitha Maruni",
      "photoUrl": "https://lh3.googleusercontent.com/a-/AOh14GgC05omiS7AyhyfwZRkFjTCiPsl1zt9cEj-ivR0=s64",
      "userId": "04272754151066914281"
     },
     "user_tz": 300
    },
    "id": "UMEuO0u4K7B9",
    "outputId": "86573cfa-0cfa-4532-8bf5-12ec2f95c78a"
   },
   "outputs": [
    {
     "name": "stdout",
     "output_type": "stream",
     "text": [
      "61 years old | pre-existing conditions    | Male   >>> [1]\n",
      "80 years old | pre-existing conditions    | Female >>> [1]\n",
      "20 years old | No pre-existing conditions | Male   >>> [0]\n",
      "40 years old | No pre-existing conditions | Female >>> [1]\n",
      "30 years old | pre-existing conditions    | Female >>> [0]\n"
     ]
    }
   ],
   "source": [
    "# Predicting a few random values\n",
    "\n",
    "print( '61 years old | pre-existing conditions    | Male   >>> ' + str(classifier.predict([[61.000000, 1, 1]])) )\n",
    "print( '80 years old | pre-existing conditions    | Female >>> ' + str(classifier.predict([[80.000000, 1, 0]])) )\n",
    "print( '20 years old | No pre-existing conditions | Male   >>> ' + str(classifier.predict([[20.000000, 0, 1]])) )\n",
    "print( '40 years old | No pre-existing conditions | Female >>> ' + str(classifier.predict([[80.000000, 1, 0]])) )\n",
    "print( '30 years old | pre-existing conditions    | Female >>> ' + str(classifier.predict([[30.000000, 1, 0]])) )"
   ]
  },
  {
   "cell_type": "markdown",
   "metadata": {
    "colab_type": "text",
    "id": "LkFnCPEMK7B-"
   },
   "source": [
    "Let's look at patient's that are 20 -> "
   ]
  },
  {
   "cell_type": "code",
   "execution_count": 38,
   "metadata": {
    "colab": {
     "base_uri": "https://localhost:8080/",
     "height": 85
    },
    "colab_type": "code",
    "executionInfo": {
     "elapsed": 1409,
     "status": "ok",
     "timestamp": 1588185165402,
     "user": {
      "displayName": "Shaquitha Maruni",
      "photoUrl": "https://lh3.googleusercontent.com/a-/AOh14GgC05omiS7AyhyfwZRkFjTCiPsl1zt9cEj-ivR0=s64",
      "userId": "04272754151066914281"
     },
     "user_tz": 300
    },
    "id": "j4KahMXCK7B_",
    "outputId": "eebae674-3582-405e-f0d8-62b17465c0c1"
   },
   "outputs": [
    {
     "name": "stdout",
     "output_type": "stream",
     "text": [
      "20 years old | No pre-existing conditions | Female >>> [0]\n",
      "20 years old | No pre-existing conditions | Male >>> [0]\n",
      "20 years old | pre-existing conditions | Female >>> [0]\n",
      "20 years old | pre-existing conditions | Male >>> [0]\n"
     ]
    }
   ],
   "source": [
    "print( '20 years old | No pre-existing conditions | Female >>> ' + str(classifier.predict([[20.000000, 0, 0]])) )\n",
    "print( '20 years old | No pre-existing conditions | Male >>> ' + str(classifier.predict([[20.000000, 0, 1]])) )\n",
    "\n",
    "print( '20 years old | pre-existing conditions | Female >>> ' + str(classifier.predict([[20.000000, 0, 0]])) )\n",
    "print( '20 years old | pre-existing conditions | Male >>> ' + str(classifier.predict([[20.000000, 0, 1]])) )"
   ]
  },
  {
   "cell_type": "markdown",
   "metadata": {
    "colab_type": "text",
    "id": "25IdNHJwK7CB"
   },
   "source": [
    "Younger individuals have a better chance of survival with or without preexisting conditions."
   ]
  },
  {
   "cell_type": "markdown",
   "metadata": {},
   "source": [
    "Let's look at patient's that are 35 -> "
   ]
  },
  {
   "cell_type": "code",
   "execution_count": 39,
   "metadata": {
    "colab": {
     "base_uri": "https://localhost:8080/",
     "height": 85
    },
    "colab_type": "code",
    "executionInfo": {
     "elapsed": 1408,
     "status": "ok",
     "timestamp": 1588185165403,
     "user": {
      "displayName": "Shaquitha Maruni",
      "photoUrl": "https://lh3.googleusercontent.com/a-/AOh14GgC05omiS7AyhyfwZRkFjTCiPsl1zt9cEj-ivR0=s64",
      "userId": "04272754151066914281"
     },
     "user_tz": 300
    },
    "id": "nPNotDArK7CB",
    "outputId": "74ffff6a-5f0b-4f57-a48c-5498c35a7096"
   },
   "outputs": [
    {
     "name": "stdout",
     "output_type": "stream",
     "text": [
      "35 years old | No pre-existing conditions | Female >>> [0]\n",
      "35 years old | No pre-existing conditions | Male   >>> [0]\n",
      "35 years old | Pre-existing conditions    | Female >>> [0]\n",
      "35 years old | Pre-existing conditions    | Male   >>> [0]\n"
     ]
    }
   ],
   "source": [
    "print( '35 years old | No pre-existing conditions | Female >>> ' + str(classifier.predict([[35.000000, 0, 0]])) )\n",
    "print( '35 years old | No pre-existing conditions | Male   >>> ' + str(classifier.predict([[35.000000, 0, 1]])) )\n",
    "\n",
    "print( '35 years old | Pre-existing conditions    | Female >>> ' + str(classifier.predict([[35.000000, 1, 0]])) )\n",
    "print( '35 years old | Pre-existing conditions    | Male   >>> ' + str(classifier.predict([[35.000000, 1, 1]])) )"
   ]
  },
  {
   "cell_type": "markdown",
   "metadata": {},
   "source": [
    "Middle aged individuals have a better chance of survival with or without preexisting conditions"
   ]
  },
  {
   "cell_type": "markdown",
   "metadata": {
    "colab_type": "text",
    "id": "O37zOziHK7CD"
   },
   "source": [
    "Let's look at patient's that are 55 -> "
   ]
  },
  {
   "cell_type": "code",
   "execution_count": 40,
   "metadata": {
    "colab": {
     "base_uri": "https://localhost:8080/",
     "height": 85
    },
    "colab_type": "code",
    "executionInfo": {
     "elapsed": 1406,
     "status": "ok",
     "timestamp": 1588185165403,
     "user": {
      "displayName": "Shaquitha Maruni",
      "photoUrl": "https://lh3.googleusercontent.com/a-/AOh14GgC05omiS7AyhyfwZRkFjTCiPsl1zt9cEj-ivR0=s64",
      "userId": "04272754151066914281"
     },
     "user_tz": 300
    },
    "id": "ja3I5DvPK7CD",
    "outputId": "f4062ca3-80ce-469e-9d96-293d02ac0f2b"
   },
   "outputs": [
    {
     "name": "stdout",
     "output_type": "stream",
     "text": [
      "55 years old | No pre-existing conditions | Female >>> [0]\n",
      "55 years old | No pre-existing conditions | Male   >>> [0]\n",
      "55 years old | Pre-existing conditions    | Female >>> [1]\n",
      "55 years old | Pre-existing conditions    | Male   >>> [1]\n"
     ]
    }
   ],
   "source": [
    "print( '55 years old | No pre-existing conditions | Female >>> ' + str(classifier.predict([[55.000000, 0, 0]])) )\n",
    "print( '55 years old | No pre-existing conditions | Male   >>> ' + str(classifier.predict([[55.000000, 0, 1]])) )\n",
    "\n",
    "print( '55 years old | Pre-existing conditions    | Female >>> ' + str(classifier.predict([[55.000000, 1, 0]])) )\n",
    "print( '55 years old | Pre-existing conditions    | Male   >>> ' + str(classifier.predict([[55.000000, 1, 1]])) )"
   ]
  },
  {
   "cell_type": "markdown",
   "metadata": {},
   "source": [
    "With senior individuals we see that pre-existing condition is a differentiating factor determing who survives."
   ]
  },
  {
   "cell_type": "markdown",
   "metadata": {
    "colab_type": "text",
    "id": "tiXAtBhwK7CF"
   },
   "source": [
    "Let's look at patient's that are 80 ->"
   ]
  },
  {
   "cell_type": "code",
   "execution_count": 41,
   "metadata": {
    "colab": {
     "base_uri": "https://localhost:8080/",
     "height": 85
    },
    "colab_type": "code",
    "executionInfo": {
     "elapsed": 1404,
     "status": "ok",
     "timestamp": 1588185165404,
     "user": {
      "displayName": "Shaquitha Maruni",
      "photoUrl": "https://lh3.googleusercontent.com/a-/AOh14GgC05omiS7AyhyfwZRkFjTCiPsl1zt9cEj-ivR0=s64",
      "userId": "04272754151066914281"
     },
     "user_tz": 300
    },
    "id": "ViMLbtGKK7CG",
    "outputId": "b7eb2ec8-d22c-4272-e2a2-df765c6cf244"
   },
   "outputs": [
    {
     "name": "stdout",
     "output_type": "stream",
     "text": [
      "80 years old | No pre-existing conditions | Female >>> [1]\n",
      "80 years old | No pre-existing conditions | Male   >>> [1]\n",
      "80 years old | Pre-existing conditions    | Female >>> [1]\n",
      "80 years old | Pre-existing conditions    | Male   >>> [1]\n"
     ]
    }
   ],
   "source": [
    "print( '80 years old | No pre-existing conditions | Female >>> ' + str(classifier.predict([[80.000000, 0, 0]])) )\n",
    "print( '80 years old | No pre-existing conditions | Male   >>> ' + str(classifier.predict([[80.000000, 0, 1]])) )\n",
    "\n",
    "print( '80 years old | Pre-existing conditions    | Female >>> ' + str(classifier.predict([[80.000000, 1, 0]])) )\n",
    "print( '80 years old | Pre-existing conditions    | Male   >>> ' + str(classifier.predict([[80.000000, 1, 1]])) )"
   ]
  },
  {
   "cell_type": "markdown",
   "metadata": {},
   "source": [
    "With the elderly we see that age is mitigating factor regardless of gender and/or pre-existing conditions\n"
   ]
  },
  {
   "cell_type": "markdown",
   "metadata": {},
   "source": [
    "## Quality Check- Confusion Matrix\n",
    "\n",
    "Using a Confusion Matrix will allow for us to assess the performance of our logistic regression model."
   ]
  },
  {
   "cell_type": "code",
   "execution_count": 42,
   "metadata": {},
   "outputs": [
    {
     "data": {
      "text/plain": [
       "array([[29,  2],\n",
       "       [ 2,  8]])"
      ]
     },
     "execution_count": 42,
     "metadata": {},
     "output_type": "execute_result"
    }
   ],
   "source": [
    "from sklearn import metrics\n",
    "cnf_matrix = metrics.confusion_matrix(y_test, y_pred)\n",
    "cnf_matrix"
   ]
  },
  {
   "cell_type": "code",
   "execution_count": 43,
   "metadata": {},
   "outputs": [],
   "source": [
    "#downgrade the matplotlib version to package 3.1.0 to fix heatmap visualization\n",
    "#pip install matplotlib==3.1.0"
   ]
  },
  {
   "cell_type": "code",
   "execution_count": 44,
   "metadata": {},
   "outputs": [
    {
     "data": {
      "text/plain": [
       "Text(0.5, 427.9555555555555, 'Predicted Label')"
      ]
     },
     "execution_count": 44,
     "metadata": {},
     "output_type": "execute_result"
    },
    {
     "data": {
      "image/png": "[encoded data removed]",
      "text/plain": [
       "<Figure size 640x480 with 2 Axes>"
      ]
     },
     "metadata": {},
     "output_type": "display_data"
    }
   ],
   "source": [
    "class_names=[0,1] \n",
    "fig, ax = plt.subplots()\n",
    "tick_marks = np.arange(len(class_names))\n",
    "plt.xticks(tick_marks, class_names)\n",
    "plt.yticks(tick_marks, class_names)\n",
    "\n",
    "# Confusion Matrix Heatmap\n",
    "sns.heatmap(pd.DataFrame(cnf_matrix), annot=True, cmap=\"YlGnBu\" ,fmt='g')\n",
    "ax.xaxis.set_label_position(\"top\")\n",
    "plt.tight_layout()\n",
    "plt.title('Confusion Matrix', y=1.1)\n",
    "plt.ylabel('Actual Label')\n",
    "plt.xlabel('Predicted Label')\n"
   ]
  },
  {
   "cell_type": "markdown",
   "metadata": {},
   "source": [
    "Depicted above are the values from our Confusion Matrix\n",
    "\n",
    "29 are True Positives = truly survived\n",
    "\n",
    "2 False Positives = reported survived but was actually deceased\n",
    "\n",
    "2 False Negatives = reported deceased but actually survived\n",
    "\n",
    "8 True Negatives = truly deceased"
   ]
  },
  {
   "cell_type": "markdown",
   "metadata": {},
   "source": [
    "### An Evaluation of the Confusion Matrix"
   ]
  },
  {
   "cell_type": "code",
   "execution_count": 45,
   "metadata": {},
   "outputs": [
    {
     "name": "stdout",
     "output_type": "stream",
     "text": [
      "Accuracy: 0.9024390243902439\n",
      "Precision: 0.8\n",
      "Recall: 0.8\n"
     ]
    }
   ],
   "source": [
    "print(\"Accuracy:\",metrics.accuracy_score(y_test, y_pred))\n",
    "print(\"Precision:\",metrics.precision_score(y_test, y_pred))\n",
    "print(\"Recall:\",metrics.recall_score(y_test, y_pred))"
   ]
  },
  {
   "cell_type": "markdown",
   "metadata": {},
   "source": [
    "Our model has a score of 90% as in we will predict correctly 90% of the time\n",
    " \n",
    "The Precision score indicates we will predict True Positives correctly 80% of the time of all survival cases, only having 20% False Negatives.\n",
    "\n",
    "Recall indicates there will be 80% True Positives out of all reported survival cases, but 20% will be False Positives"
   ]
  },
  {
   "cell_type": "markdown",
   "metadata": {},
   "source": [
    "### Making Confirmed Cases Predictions"
   ]
  },
  {
   "cell_type": "markdown",
   "metadata": {},
   "source": [
    "Here, the column \"confirmed_date\" will be converted into a numerical count that will then be an accumulation of numbers. The date columns will also be converted in order to do the predictions. "
   ]
  },
  {
   "cell_type": "code",
   "execution_count": 46,
   "metadata": {
    "colab": {},
    "colab_type": "code",
    "id": "J5jwE4IWK7CH"
   },
   "outputs": [],
   "source": [
    "daily_count = patient.groupby(patient.confirmed_date).patient_id.count()\n",
    "accumulated_count = daily_count.cumsum()"
   ]
  },
  {
   "cell_type": "code",
   "execution_count": 47,
   "metadata": {},
   "outputs": [],
   "source": [
    "date_cols = [\"confirmed_date\", \"released_date\", \"deceased_date\"]\n",
    "for col in date_cols:\n",
    "    patient[col] = pd.to_datetime(patient[col])"
   ]
  },
  {
   "cell_type": "markdown",
   "metadata": {},
   "source": [
    "Now, let's visualize the confirmed number of cases."
   ]
  },
  {
   "cell_type": "code",
   "execution_count": 48,
   "metadata": {},
   "outputs": [
    {
     "data": {
      "image/png": "[encoded data removed]",
      "text/plain": [
       "<Figure size 640x480 with 1 Axes>"
      ]
     },
     "metadata": {},
     "output_type": "display_data"
    }
   ],
   "source": [
    "accumulated_count.plot()\n",
    "plt.title('Confirmed Count Over Time');"
   ]
  },
  {
   "cell_type": "markdown",
   "metadata": {},
   "source": [
    "Here we will fill in the missing dates with 0. Then, we will only use the most recent data (last 30 rows), and prepare the data for the regresser."
   ]
  },
  {
   "cell_type": "code",
   "execution_count": 49,
   "metadata": {},
   "outputs": [],
   "source": [
    "data = daily_count.resample('D').first().fillna(0).cumsum()\n",
    "data = data[30:]\n",
    "x = np.arange(len(data)).reshape(-1, 1)\n",
    "y = data.values"
   ]
  },
  {
   "cell_type": "markdown",
   "metadata": {},
   "source": [
    "MLP Regressor is a supervised learning algorithm that can learn a non-linear fucntion aproximator based off a set of features and a target value."
   ]
  },
  {
   "cell_type": "code",
   "execution_count": 50,
   "metadata": {},
   "outputs": [],
   "source": [
    "from sklearn.neural_network import MLPRegressor\n",
    "model = MLPRegressor(hidden_layer_sizes=[12, 12, 10], max_iter=50000, alpha=0.0005, random_state=45)\n",
    "_=model.fit(x, y)"
   ]
  },
  {
   "cell_type": "code",
   "execution_count": 51,
   "metadata": {},
   "outputs": [],
   "source": [
    "test = np.arange(len(data)+7).reshape(-1, 1)\n",
    "pred = model.predict(test)"
   ]
  },
  {
   "cell_type": "code",
   "execution_count": 52,
   "metadata": {},
   "outputs": [],
   "source": [
    "prediction = pred.round().astype(int)\n",
    "week = [data.index[0] + timedelta(days=i) for i in range(len(prediction))]\n",
    "dt_idx = pd.DatetimeIndex(week)\n",
    "predicted_count = pd.Series(prediction, dt_idx)"
   ]
  },
  {
   "cell_type": "markdown",
   "metadata": {},
   "source": [
    "This is when we can visualize the prediction versus the actual count."
   ]
  },
  {
   "cell_type": "code",
   "execution_count": 53,
   "metadata": {},
   "outputs": [
    {
     "data": {
      "image/png": "[encoded data removed]",
      "text/plain": [
       "<Figure size 640x480 with 1 Axes>"
      ]
     },
     "metadata": {},
     "output_type": "display_data"
    }
   ],
   "source": [
    "accumulated_count.plot()\n",
    "predicted_count.plot()\n",
    "plt.title('Prediction of Accumulated Confirmed Count')\n",
    "plt.legend(['current confirmed count', 'predicted confirmed count'])\n",
    "plt.show()"
   ]
  },
  {
   "cell_type": "markdown",
   "metadata": {},
   "source": [
    "If we want to look at this data by the numbers, we can do the following code to see the last 7 points:"
   ]
  },
  {
   "cell_type": "code",
   "execution_count": 54,
   "metadata": {},
   "outputs": [
    {
     "name": "stdout",
     "output_type": "stream",
     "text": [
      "2020-04-20    3443\n",
      "2020-04-21    3470\n",
      "2020-04-22    3496\n",
      "2020-04-23    3523\n",
      "2020-04-24    3549\n",
      "2020-04-25    3576\n",
      "2020-04-26    3602\n",
      "dtype: int64\n"
     ]
    }
   ],
   "source": [
    "print(predicted_count[-7:])"
   ]
  }
 ],
 "metadata": {
  "colab": {
   "name": "COVID Fatality Indicator.ipynb",
   "provenance": [],
   "toc_visible": true
  },
  "kernelspec": {
   "display_name": "Python 3",
   "language": "python",
   "name": "python3"
  },
  "language_info": {
   "codemirror_mode": {
    "name": "ipython",
    "version": 3
   },
   "file_extension": ".py",
   "mimetype": "text/x-python",
   "name": "python",
   "nbconvert_exporter": "python",
   "pygments_lexer": "ipython3",
   "version": "3.7.4"
  }
 },
 "nbformat": 4,
 "nbformat_minor": 1
}
